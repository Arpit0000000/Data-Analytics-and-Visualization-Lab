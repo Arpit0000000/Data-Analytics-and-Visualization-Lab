{
  "nbformat": 4,
  "nbformat_minor": 0,
  "metadata": {
    "colab": {
      "provenance": [],
      "authorship_tag": "ABX9TyNYIqyk2nO7h7J3OZYPD5jV",
      "include_colab_link": true
    },
    "kernelspec": {
      "name": "ir",
      "display_name": "R"
    },
    "language_info": {
      "name": "R"
    }
  },
  "cells": [
    {
      "cell_type": "markdown",
      "metadata": {
        "id": "view-in-github",
        "colab_type": "text"
      },
      "source": [
        "<a href=\"https://colab.research.google.com/github/Arpit0000000/Data-Analytics-and-Visualization-Lab/blob/main/DAV_9_Experiment_1.ipynb\" target=\"_parent\"><img src=\"https://colab.research.google.com/assets/colab-badge.svg\" alt=\"Open In Colab\"/></a>"
      ]
    },
    {
      "cell_type": "markdown",
      "source": [
        "# **Experiemnt 1**- Getting introduced to data analytics libraries in Python and R"
      ],
      "metadata": {
        "id": "7eQD3xY9-6Jb"
      }
    },
    {
      "cell_type": "markdown",
      "source": [
        "**Name:** Arpit Burley    \n",
        "**Div**: D11AD    \n",
        "**Roll no.:** 09"
      ],
      "metadata": {
        "id": "_wPsT_yk-Fnx"
      }
    },
    {
      "cell_type": "markdown",
      "source": [
        "**Aim:** Getting introduced to data analytics libraries in Python and R."
      ],
      "metadata": {
        "id": "M3sLoV1h-13h"
      }
    },
    {
      "cell_type": "markdown",
      "source": [
        "**Outcome :**\n",
        "*  Identified the Data Analytics Libraries in Python and R\n",
        "*   Performed simple experiments with these libraries in Python and R\n",
        "\n"
      ],
      "metadata": {
        "id": "-MzE1k1CGSqw"
      }
    },
    {
      "cell_type": "markdown",
      "source": [
        "**Tasks Performed:**\n",
        "\n",
        "\n",
        "*  Explored Top-5 Data Analytics Libraries in Python    \n",
        "*  Explore Top-5 Data Analytics Libraries in R\n",
        "*  Installed and performed simple experiments on 2 Libraries each for Python and R\n",
        "\n"
      ],
      "metadata": {
        "id": "ccoCGy8I-W3J"
      }
    },
    {
      "cell_type": "markdown",
      "source": [
        "## BeautifulSoup(Python)"
      ],
      "metadata": {
        "id": "B-3Pi9Qi_FRR"
      }
    },
    {
      "cell_type": "code",
      "execution_count": 13,
      "metadata": {
        "id": "uyLFHX8DTKtM"
      },
      "outputs": [],
      "source": [
        "import requests\n",
        "from bs4 import BeautifulSoup"
      ]
    },
    {
      "cell_type": "code",
      "source": [
        "url = 'https://newbreedtraining.com/blog/?gad_source=1&gclid=CjwKCAiAzJOtBhALEiwAtwj8tlMrEh9dTzDRqB2hKBYeJQRNBxIjmGpY4fauUcQY6GnOtO2twwlULBoCfaYQAvD_BwE'\n",
        "response = requests.get(url)\n",
        "soup = BeautifulSoup(response.text, 'html.parser')"
      ],
      "metadata": {
        "id": "ti8IrYatUPqn"
      },
      "execution_count": 14,
      "outputs": []
    },
    {
      "cell_type": "code",
      "source": [
        "date = soup.find_all('span', class_='uabb-meta-date')\n",
        "# Print HTML elements\n",
        "# for i in date:\n",
        "#   print(i)\n",
        "\n",
        "for i in date:\n",
        "    content = i.text.strip()\n",
        "    print(content)"
      ],
      "metadata": {
        "colab": {
          "base_uri": "https://localhost:8080/"
        },
        "id": "h0TwKq_KUPtG",
        "outputId": "d804d91d-82b4-47d7-84dd-b34969671c47"
      },
      "execution_count": 15,
      "outputs": [
        {
          "output_type": "stream",
          "name": "stdout",
          "text": [
            "January 26, 2024\n",
            "January 16, 2024\n",
            "January 15, 2024\n",
            "January 9, 2024\n",
            "January 8, 2024\n",
            "January 3, 2024\n"
          ]
        }
      ]
    },
    {
      "cell_type": "code",
      "source": [
        "desc = soup.find_all('div', class_='uabb-blog-posts-description uabb-blog-post-section uabb-text-editor')\n",
        "# Print HTML elements\n",
        "# for i in desc:\n",
        "#   print(i)\n",
        "\n",
        "for i in desc:\n",
        "    description = i.text.strip()\n",
        "    print(description)"
      ],
      "metadata": {
        "colab": {
          "base_uri": "https://localhost:8080/"
        },
        "id": "cJJg3IVyUPwG",
        "outputId": "4be8b210-90c4-4a0e-85fb-b83e5d9df453"
      },
      "execution_count": 16,
      "outputs": [
        {
          "output_type": "stream",
          "name": "stdout",
          "text": [
            "Planting a single church should never be a planter’s goal. The Apostle Paul planted networks of churches and we should follow suit if we want to make a dent in the lostness of the world. Find out in this episode how church planters in many parts of the world are prioritizing the Kingdom over their…\n",
            "This was the title of my talk at the 2023 North Coast Leadership Conference here in sunny San Diego. I love this conference for many reasons, but what gets me is the core of the conference: a place where leaders can engage other leaders on similar paths as they are. And every once in a…\n",
            "Church planting is expensive in the West. Equipment, legal fees, marketing, facilities, and of course, ministry salaries. Unfortunately, these expenses make sure that there’s a greater need to plant churches than funds available to pay for the start-up costs. Yet that’s nothing new. The Apostle Paul wasn’t rolling in cash either. That’s why he, and…\n",
            "Each of us have areas of our lives that need adjusting. We may add new responsibilities and interests, while losing interest in other things. We collect new stuff while holding on to old stuff, and collectively we end up with cluttered lives. If any of this sounds familiar…you might need a life edit. In writing, editing is the process of making every word count. This…\n",
            "Mission isn’t just something that happens “out there,” it happens within the four walls of the church as well. Too often we think of mission as a temporary activity instead of a way of life that permeates everything we do. When believers gather together, they should interact in a way that makes gathering times just…\n",
            "This time of year, we talk a lot about New Year’s resolutions and about how to make our lives better. Many of us have spiritual goals, physical goals, intellectual goals, and a whole host of things that we think will improve the qualities of our lives and character. We have a notion of what an…\n"
          ]
        }
      ]
    },
    {
      "cell_type": "markdown",
      "source": [
        "## NumPy(Python)"
      ],
      "metadata": {
        "id": "hL_N5YPC_ZzB"
      }
    },
    {
      "cell_type": "code",
      "source": [
        "import numpy as np"
      ],
      "metadata": {
        "id": "14q4AGwwUPyX"
      },
      "execution_count": 17,
      "outputs": []
    },
    {
      "cell_type": "code",
      "source": [
        "# 1D Array\n",
        "array1 = np.array([1, 2, 3, 4, 5])\n",
        "\n",
        "print(\"Array 1:\", array1)\n",
        "\n",
        "squared_array = np.square(array1)\n",
        "print(\"Squared Array:\", squared_array)\n",
        "\n",
        "sum_of_elements = np.sum(array1)\n",
        "print(\"Sum of Elements:\", sum_of_elements)"
      ],
      "metadata": {
        "colab": {
          "base_uri": "https://localhost:8080/"
        },
        "id": "dfMVTbsEUP1e",
        "outputId": "e5cd4f12-0653-423a-e43e-6a4aa2b0c7c3"
      },
      "execution_count": 18,
      "outputs": [
        {
          "output_type": "stream",
          "name": "stdout",
          "text": [
            "Array 1: [1 2 3 4 5]\n",
            "Squared Array: [ 1  4  9 16 25]\n",
            "Sum of Elements: 15\n"
          ]
        }
      ]
    },
    {
      "cell_type": "code",
      "source": [
        "# 2D Array\n",
        "arr2 = np.array([[1, 2, 3], [4, 5, 6], [7, 8, 9]])\n",
        "print(arr2)\n",
        "\n",
        "sum_of_elements_2D = np.sum(arr2)\n",
        "print(\"Sum of all elements : \",sum_of_elements_2D)\n",
        "\n",
        "size = arr2.size\n",
        "print(\"Size of Array : \",size)"
      ],
      "metadata": {
        "id": "9gEpElRsUP3-",
        "colab": {
          "base_uri": "https://localhost:8080/"
        },
        "outputId": "7b77118b-6578-4f86-c666-9ebf4fa7a228"
      },
      "execution_count": 19,
      "outputs": [
        {
          "output_type": "stream",
          "name": "stdout",
          "text": [
            "[[1 2 3]\n",
            " [4 5 6]\n",
            " [7 8 9]]\n",
            "Sum of all elements :  45\n",
            "Size of Array :  9\n"
          ]
        }
      ]
    },
    {
      "cell_type": "markdown",
      "source": [
        "## dplyr (R)"
      ],
      "metadata": {
        "id": "l6MK4jlxBmJw"
      }
    },
    {
      "cell_type": "code",
      "source": [
        "library(dplyr)"
      ],
      "metadata": {
        "id": "bcQ2s5QnBluo"
      },
      "execution_count": 10,
      "outputs": []
    },
    {
      "cell_type": "code",
      "source": [
        "d <- data.frame(name = c(\"Arpit\", \"Abhishek\", \"Pikachu\", \"Panda\",\"Yash\", \"Nihar\"),\n",
        "                age = c(11, 9, 10, 15, 18, 22),\n",
        "                roll = c(20, 12, 10, 5, 22, 30),\n",
        "                school = c(\"yes\", \"yes\", \"no\", \"no\", \"yes\", \"No\"))\n",
        "\n",
        "print(d)"
      ],
      "metadata": {
        "colab": {
          "base_uri": "https://localhost:8080/"
        },
        "id": "AtDkev-8B3gR",
        "outputId": "ae2a56d9-4ebc-4906-ecbb-b212052ed036"
      },
      "execution_count": 11,
      "outputs": [
        {
          "output_type": "stream",
          "name": "stdout",
          "text": [
            "      name age roll school\n",
            "1    Arpit  11   20    yes\n",
            "2 Abhishek   9   12    yes\n",
            "3  Pikachu  10   10     no\n",
            "4    Panda  15    5     no\n",
            "5     Yash  18   22    yes\n",
            "6    Nihar  22   30     No\n"
          ]
        }
      ]
    },
    {
      "cell_type": "code",
      "source": [
        "selected_columns <- d %>% select(name, age)\n",
        "print(selected_columns)"
      ],
      "metadata": {
        "colab": {
          "base_uri": "https://localhost:8080/"
        },
        "id": "LD67QURvB8O-",
        "outputId": "b6e73b94-dd1b-40db-d1ca-f83a6822726a"
      },
      "execution_count": 12,
      "outputs": [
        {
          "output_type": "stream",
          "name": "stdout",
          "text": [
            "      name age\n",
            "1    Arpit  11\n",
            "2 Abhishek   9\n",
            "3  Pikachu  10\n",
            "4    Panda  15\n",
            "5     Yash  18\n",
            "6    Nihar  22\n"
          ]
        }
      ]
    },
    {
      "cell_type": "code",
      "source": [
        "arranged_data <- d %>% arrange(age)\n",
        "print(arranged_data)"
      ],
      "metadata": {
        "colab": {
          "base_uri": "https://localhost:8080/"
        },
        "id": "IwMNf0tbB-uK",
        "outputId": "e0854183-a7fa-418e-8c27-7ddc71abbda9"
      },
      "execution_count": 13,
      "outputs": [
        {
          "output_type": "stream",
          "name": "stdout",
          "text": [
            "      name age roll school\n",
            "1 Abhishek   9   12    yes\n",
            "2  Pikachu  10   10     no\n",
            "3    Arpit  11   20    yes\n",
            "4    Panda  15    5     no\n",
            "5     Yash  18   22    yes\n",
            "6    Nihar  22   30     No\n"
          ]
        }
      ]
    },
    {
      "cell_type": "markdown",
      "source": [
        "## ggplot2 (R)"
      ],
      "metadata": {
        "id": "PXSiLMmuCgAY"
      }
    },
    {
      "cell_type": "code",
      "source": [
        "library(ggplot2)"
      ],
      "metadata": {
        "id": "dN1CLTa4CgXA"
      },
      "execution_count": 14,
      "outputs": []
    },
    {
      "cell_type": "code",
      "source": [
        "food_data = data.frame(\n",
        "    food = c(\"Chicken\", \"Salmon\", \"Eggs\", \"Greek Yogurt\", \"Curd\", \"Panner\"),\n",
        "    protein = c(24, 25, 13, 15, 8, 15)\n",
        ")\n",
        "\n",
        "\n",
        "ggplot(data = food_data, mapping = aes(x= food, y = protein)) +  geom_point()"
      ],
      "metadata": {
        "colab": {
          "base_uri": "https://localhost:8080/",
          "height": 437
        },
        "id": "a0vqLlPAClMC",
        "outputId": "6c96fa72-7770-4a51-ef0a-3a83fa2f4a27"
      },
      "execution_count": 20,
      "outputs": [
        {
          "output_type": "display_data",
          "data": {
            "text/plain": [
              "plot without title"
            ],
            "image/png": "[encoded data removed]"
          },
          "metadata": {
            "image/png": {
              "width": 420,
              "height": 420
            }
          }
        }
      ]
    },
    {
      "cell_type": "markdown",
      "source": [
        "**Conclusion:**           \n",
        "*   Identified the Data Analytics Libraries in Python and R    \n",
        "*   Performed simple experiments with these libraries in Python and R\n",
        "\n",
        "\n"
      ],
      "metadata": {
        "id": "GWOhEKLzGop2"
      }
    }
  ]
}