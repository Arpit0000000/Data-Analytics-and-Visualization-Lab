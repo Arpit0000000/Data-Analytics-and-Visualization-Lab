{
  "nbformat": 4,
  "nbformat_minor": 0,
  "metadata": {
    "colab": {
      "provenance": [],
      "authorship_tag": "ABX9TyPAp+GUege1SSh8aBnZiWlQ",
      "include_colab_link": true
    },
    "kernelspec": {
      "name": "ir",
      "display_name": "R"
    },
    "language_info": {
      "name": "R"
    }
  },
  "cells": [
    {
      "cell_type": "markdown",
      "metadata": {
        "id": "view-in-github",
        "colab_type": "text"
      },
      "source": [
        "<a href=\"https://colab.research.google.com/github/Arpit0000000/Data-Analytics-and-Visualization-Lab/blob/main/DAV_9_Experiment_7.ipynb\" target=\"_parent\"><img src=\"https://colab.research.google.com/assets/colab-badge.svg\" alt=\"Open In Colab\"/></a>"
      ]
    },
    {
      "cell_type": "markdown",
      "source": [
        "## **Text Analytics in Python**"
      ],
      "metadata": {
        "id": "2DN3HKfaitNu"
      }
    },
    {
      "cell_type": "markdown",
      "source": [
        "**Aim:**                                    \n",
        "Getting introduced to visualization libraries in Python and R."
      ],
      "metadata": {
        "id": "Gi-5pjI5jFnn"
      }
    },
    {
      "cell_type": "markdown",
      "source": [
        "**Task to be performed :**                        \n",
        "\n",
        "\n",
        "*   Explore Top-5 Text Analytics Libraries in Python (w.r.t Features & Applications)\n",
        "*   Explore Top-5 Text Analytics Libraries in R (w.r.t Features & Applications)\n",
        "\n",
        "\n",
        "\n",
        "*   Perform the following experiments using Python & R\n",
        "\n",
        "*   Tokenization (Sentence & Word)\n",
        "Frequency Distribution\n",
        "Remove stopwords & punctuations\n",
        "Lexicon Normalization (Stemming, Lemmatization)\n",
        "Part of Speech tagging\n",
        "Named Entity Recognization\n",
        "Scrape data from a website\n",
        "*   Prepare a document with the Aim, Tasks performed, Program, Output, and Conclusion"
      ],
      "metadata": {
        "id": "kAqzy0uhjicW"
      }
    },
    {
      "cell_type": "markdown",
      "source": [
        "**Outcomes:**                                     \n",
        "Implement visualization techniques to given data sets using R Implement visualization techniques to given data sets using Python\n",
        "\n"
      ],
      "metadata": {
        "id": "p7BM-q0KjFzH"
      }
    },
    {
      "cell_type": "code",
      "source": [
        "import nltk\n",
        "from nltk.tokenize import sent_tokenize, word_tokenize\n",
        "from nltk.probability import FreqDist\n",
        "from nltk.corpus import stopwords\n",
        "from nltk.stem import PorterStemmer, WordNetLemmatizer\n",
        "from nltk import pos_tag, ne_chunk\n",
        "import requests\n",
        "from bs4 import BeautifulSoup\n",
        "import nltk"
      ],
      "metadata": {
        "id": "M0JixO-YhSMF"
      },
      "execution_count": 5,
      "outputs": []
    },
    {
      "cell_type": "code",
      "source": [
        "# Function to scrape text from a website\n",
        "def scrape_text(url):\n",
        "    response = requests.get(url)\n",
        "    soup = BeautifulSoup(response.text, 'html.parser')\n",
        "    paragraphs = soup.find_all('p')\n",
        "    text = ' '.join([para.get_text() for para in paragraphs])\n",
        "    return text\n",
        "\n",
        "# URL of the Wikipedia article to scrape\n",
        "url = 'https://en.wikipedia.org/wiki/Pirates_of_the_Caribbean'\n",
        "text = scrape_text(url)"
      ],
      "metadata": {
        "id": "MlCSxUbghSKF"
      },
      "execution_count": 2,
      "outputs": []
    },
    {
      "cell_type": "code",
      "source": [
        "print(text)"
      ],
      "metadata": {
        "colab": {
          "base_uri": "https://localhost:8080/"
        },
        "id": "0xDv3VDIhSB-",
        "outputId": "4393f622-6f5c-47cf-cab0-936cb9445e80"
      },
      "execution_count": null,
      "outputs": [
        {
          "output_type": "stream",
          "name": "stdout",
          "text": [
            "\n",
            " Pirates of the Caribbean is a Disney media franchise encompassing numerous theme park rides, a series of films, and spin-off novels, as well as a number of related video games and other media publications. The franchise originated with Walt Disney's theme park ride of the same name, which opened at Disneyland in 1967 and was one of the last Disneyland attractions overseen by Walt Disney. Disney based the ride on pirate legends, folklore and novels, such as those by Italian writer Emilio Salgari.\n",
            " Pirates of the Caribbean became a media franchise in the 2000s with the release of The Curse of the Black Pearl in 2003; it was followed by four sequels. Produced by Jerry Bruckheimer and originally written by screenwriters Ted Elliott and Terry Rossio, the films have grossed over $4.5 billion worldwide by 2019,[1] putting the film franchise 16th in the list of all-time highest-grossing franchises and film series. The rides can be found at five Disney theme park resorts.\n",
            " Pirates of the Caribbean is a dark ride at Disneyland, Walt Disney World's Magic Kingdom, Tokyo Disneyland, and Disneyland Park at Disneyland Paris. Opening on March 18, 1967, the Disneyland version of Pirates of the Caribbean was the last ride that Walt Disney himself participated in designing, debuting three months after his death.[2] The ride gave rise to the song \"Yo Ho (A Pirate's Life for Me)\" written by George Bruns and Xavier Atencio, and performed on the ride's recording by The Mellomen.[3]\n",
            " Pirate's Lair on Tom Sawyer Island is a rebranding of Tom Sawyer Island, an artificial island surrounded by the Rivers of America at Disneyland, Magic Kingdom and Tokyo Disneyland. It contains structures and caves with references to Mark Twain characters from the novel The Adventures of Tom Sawyer, and provides interactive, climbing, and scenic opportunities. At Disneyland in 2007, Disney added references to the Pirates of the Caribbean film series.\n",
            " Pirates of the Caribbean: Battle for the Sunken Treasure is a magnetic powered dark ride at Shanghai Disneyland. It uses a storyline based on the Pirates of the Caribbean film series. It blends digital large-screen projection technology with traditional set pieces and audio animatronics. Walt Disney Imagineering designed the ride and Industrial Light & Magic created the computer-generated visual effects.[4]\n",
            " Two series of young reader books have been released as prequels to the first film:\n",
            " In addition there is a novel taking place between the two series:\n",
            " Novelizations\n",
            " Further fictional books\n",
            " Reference books\n",
            " German novelizations\n",
            " The Pirates of the Caribbean comic series by Joe Books Ltd:\n",
            " Comic book adaptions:\n",
            " Comics have also been published in the Disney Adventures and Pirati dei Caraibi magazines.\n",
            " Several additional works have been derived from the franchise:\n",
            "  Category\n",
            "\n"
          ]
        }
      ]
    },
    {
      "cell_type": "code",
      "source": [
        "# Tokenization (Sentence & Word)\n",
        "sentences = sent_tokenize(text)\n",
        "words = word_tokenize(text)\n",
        "print(sentences)\n",
        "print(words)"
      ],
      "metadata": {
        "colab": {
          "base_uri": "https://localhost:8080/"
        },
        "id": "VWZAhZB6SfMv",
        "outputId": "d59b7df0-9a1b-4a88-8b8f-9d63995f5dc7"
      },
      "execution_count": 6,
      "outputs": [
        {
          "output_type": "stream",
          "name": "stdout",
          "text": [
            "['\\n Pirates of the Caribbean is a Disney media franchise encompassing numerous theme park rides, a series of films, and spin-off novels, as well as a number of related video games and other media publications.', \"The franchise originated with Walt Disney's theme park ride of the same name, which opened at Disneyland in 1967 and was one of the last Disneyland attractions overseen by Walt Disney.\", 'Disney based the ride on pirate legends, folklore and novels, such as those by Italian writer Emilio Salgari.', 'Pirates of the Caribbean became a media franchise in the 2000s with the release of The Curse of the Black Pearl in 2003; it was followed by four sequels.', 'Produced by Jerry Bruckheimer and originally written by screenwriters Ted Elliott and Terry Rossio, the films have grossed over $4.5 billion worldwide by 2019,[1] putting the film franchise 16th in the list of all-time highest-grossing franchises and film series.', 'The rides can be found at five Disney theme park resorts.', \"Pirates of the Caribbean is a dark ride at Disneyland, Walt Disney World's Magic Kingdom, Tokyo Disneyland, and Disneyland Park at Disneyland Paris.\", 'Opening on March 18, 1967, the Disneyland version of Pirates of the Caribbean was the last ride that Walt Disney himself participated in designing, debuting three months after his death.', '[2] The ride gave rise to the song \"Yo Ho (A Pirate\\'s Life for Me)\" written by George Bruns and Xavier Atencio, and performed on the ride\\'s recording by The Mellomen.', \"[3]\\n Pirate's Lair on Tom Sawyer Island is a rebranding of Tom Sawyer Island, an artificial island surrounded by the Rivers of America at Disneyland, Magic Kingdom and Tokyo Disneyland.\", 'It contains structures and caves with references to Mark Twain characters from the novel The Adventures of Tom Sawyer, and provides interactive, climbing, and scenic opportunities.', 'At Disneyland in 2007, Disney added references to the Pirates of the Caribbean film series.', 'Pirates of the Caribbean: Battle for the Sunken Treasure is a magnetic powered dark ride at Shanghai Disneyland.', 'It uses a storyline based on the Pirates of the Caribbean film series.', 'It blends digital large-screen projection technology with traditional set pieces and audio animatronics.', 'Walt Disney Imagineering designed the ride and Industrial Light & Magic created the computer-generated visual effects.', '[4]\\n Two series of young reader books have been released as prequels to the first film:\\n In addition there is a novel taking place between the two series:\\n Novelizations\\n Further fictional books\\n Reference books\\n German novelizations\\n The Pirates of the Caribbean comic series by Joe Books Ltd:\\n Comic book adaptions:\\n Comics have also been published in the Disney Adventures and Pirati dei Caraibi magazines.', 'Several additional works have been derived from the franchise:\\n  Category']\n",
            "['Pirates', 'of', 'the', 'Caribbean', 'is', 'a', 'Disney', 'media', 'franchise', 'encompassing', 'numerous', 'theme', 'park', 'rides', ',', 'a', 'series', 'of', 'films', ',', 'and', 'spin-off', 'novels', ',', 'as', 'well', 'as', 'a', 'number', 'of', 'related', 'video', 'games', 'and', 'other', 'media', 'publications', '.', 'The', 'franchise', 'originated', 'with', 'Walt', 'Disney', \"'s\", 'theme', 'park', 'ride', 'of', 'the', 'same', 'name', ',', 'which', 'opened', 'at', 'Disneyland', 'in', '1967', 'and', 'was', 'one', 'of', 'the', 'last', 'Disneyland', 'attractions', 'overseen', 'by', 'Walt', 'Disney', '.', 'Disney', 'based', 'the', 'ride', 'on', 'pirate', 'legends', ',', 'folklore', 'and', 'novels', ',', 'such', 'as', 'those', 'by', 'Italian', 'writer', 'Emilio', 'Salgari', '.', 'Pirates', 'of', 'the', 'Caribbean', 'became', 'a', 'media', 'franchise', 'in', 'the', '2000s', 'with', 'the', 'release', 'of', 'The', 'Curse', 'of', 'the', 'Black', 'Pearl', 'in', '2003', ';', 'it', 'was', 'followed', 'by', 'four', 'sequels', '.', 'Produced', 'by', 'Jerry', 'Bruckheimer', 'and', 'originally', 'written', 'by', 'screenwriters', 'Ted', 'Elliott', 'and', 'Terry', 'Rossio', ',', 'the', 'films', 'have', 'grossed', 'over', '$', '4.5', 'billion', 'worldwide', 'by', '2019', ',', '[', '1', ']', 'putting', 'the', 'film', 'franchise', '16th', 'in', 'the', 'list', 'of', 'all-time', 'highest-grossing', 'franchises', 'and', 'film', 'series', '.', 'The', 'rides', 'can', 'be', 'found', 'at', 'five', 'Disney', 'theme', 'park', 'resorts', '.', 'Pirates', 'of', 'the', 'Caribbean', 'is', 'a', 'dark', 'ride', 'at', 'Disneyland', ',', 'Walt', 'Disney', 'World', \"'s\", 'Magic', 'Kingdom', ',', 'Tokyo', 'Disneyland', ',', 'and', 'Disneyland', 'Park', 'at', 'Disneyland', 'Paris', '.', 'Opening', 'on', 'March', '18', ',', '1967', ',', 'the', 'Disneyland', 'version', 'of', 'Pirates', 'of', 'the', 'Caribbean', 'was', 'the', 'last', 'ride', 'that', 'Walt', 'Disney', 'himself', 'participated', 'in', 'designing', ',', 'debuting', 'three', 'months', 'after', 'his', 'death', '.', '[', '2', ']', 'The', 'ride', 'gave', 'rise', 'to', 'the', 'song', '``', 'Yo', 'Ho', '(', 'A', 'Pirate', \"'s\", 'Life', 'for', 'Me', ')', \"''\", 'written', 'by', 'George', 'Bruns', 'and', 'Xavier', 'Atencio', ',', 'and', 'performed', 'on', 'the', 'ride', \"'s\", 'recording', 'by', 'The', 'Mellomen', '.', '[', '3', ']', 'Pirate', \"'s\", 'Lair', 'on', 'Tom', 'Sawyer', 'Island', 'is', 'a', 'rebranding', 'of', 'Tom', 'Sawyer', 'Island', ',', 'an', 'artificial', 'island', 'surrounded', 'by', 'the', 'Rivers', 'of', 'America', 'at', 'Disneyland', ',', 'Magic', 'Kingdom', 'and', 'Tokyo', 'Disneyland', '.', 'It', 'contains', 'structures', 'and', 'caves', 'with', 'references', 'to', 'Mark', 'Twain', 'characters', 'from', 'the', 'novel', 'The', 'Adventures', 'of', 'Tom', 'Sawyer', ',', 'and', 'provides', 'interactive', ',', 'climbing', ',', 'and', 'scenic', 'opportunities', '.', 'At', 'Disneyland', 'in', '2007', ',', 'Disney', 'added', 'references', 'to', 'the', 'Pirates', 'of', 'the', 'Caribbean', 'film', 'series', '.', 'Pirates', 'of', 'the', 'Caribbean', ':', 'Battle', 'for', 'the', 'Sunken', 'Treasure', 'is', 'a', 'magnetic', 'powered', 'dark', 'ride', 'at', 'Shanghai', 'Disneyland', '.', 'It', 'uses', 'a', 'storyline', 'based', 'on', 'the', 'Pirates', 'of', 'the', 'Caribbean', 'film', 'series', '.', 'It', 'blends', 'digital', 'large-screen', 'projection', 'technology', 'with', 'traditional', 'set', 'pieces', 'and', 'audio', 'animatronics', '.', 'Walt', 'Disney', 'Imagineering', 'designed', 'the', 'ride', 'and', 'Industrial', 'Light', '&', 'Magic', 'created', 'the', 'computer-generated', 'visual', 'effects', '.', '[', '4', ']', 'Two', 'series', 'of', 'young', 'reader', 'books', 'have', 'been', 'released', 'as', 'prequels', 'to', 'the', 'first', 'film', ':', 'In', 'addition', 'there', 'is', 'a', 'novel', 'taking', 'place', 'between', 'the', 'two', 'series', ':', 'Novelizations', 'Further', 'fictional', 'books', 'Reference', 'books', 'German', 'novelizations', 'The', 'Pirates', 'of', 'the', 'Caribbean', 'comic', 'series', 'by', 'Joe', 'Books', 'Ltd', ':', 'Comic', 'book', 'adaptions', ':', 'Comics', 'have', 'also', 'been', 'published', 'in', 'the', 'Disney', 'Adventures', 'and', 'Pirati', 'dei', 'Caraibi', 'magazines', '.', 'Several', 'additional', 'works', 'have', 'been', 'derived', 'from', 'the', 'franchise', ':', 'Category']\n"
          ]
        }
      ]
    },
    {
      "cell_type": "code",
      "source": [
        "# Frequency Distribution\n",
        "fdist = FreqDist(word_tokenize(text))\n",
        "print(fdist.most_common(2))\n",
        "\n",
        "print(\"Frequency of each word: \\n\")\n",
        "for word, freq in fdist.items():\n",
        "    print(f'{word}: {freq}')"
      ],
      "metadata": {
        "id": "bzJYtn9VSA7w",
        "colab": {
          "base_uri": "https://localhost:8080/"
        },
        "outputId": "0620ae0d-0e58-45c3-9c78-a792b2fea59f"
      },
      "execution_count": 7,
      "outputs": [
        {
          "output_type": "stream",
          "name": "stdout",
          "text": [
            "[('the', 32), (',', 21)]\n",
            "Frequency of each word: \n",
            "\n",
            "Pirates: 8\n",
            "of: 20\n",
            "the: 32\n",
            "Caribbean: 8\n",
            "is: 5\n",
            "a: 9\n",
            "Disney: 10\n",
            "media: 3\n",
            "franchise: 5\n",
            "encompassing: 1\n",
            "numerous: 1\n",
            "theme: 3\n",
            "park: 3\n",
            "rides: 2\n",
            ",: 21\n",
            "series: 7\n",
            "films: 2\n",
            "and: 17\n",
            "spin-off: 1\n",
            "novels: 2\n",
            "as: 4\n",
            "well: 1\n",
            "number: 1\n",
            "related: 1\n",
            "video: 1\n",
            "games: 1\n",
            "other: 1\n",
            "publications: 1\n",
            ".: 17\n",
            "The: 7\n",
            "originated: 1\n",
            "with: 4\n",
            "Walt: 5\n",
            "'s: 5\n",
            "ride: 8\n",
            "same: 1\n",
            "name: 1\n",
            "which: 1\n",
            "opened: 1\n",
            "at: 6\n",
            "Disneyland: 11\n",
            "in: 7\n",
            "1967: 2\n",
            "was: 3\n",
            "one: 1\n",
            "last: 2\n",
            "attractions: 1\n",
            "overseen: 1\n",
            "by: 10\n",
            "based: 2\n",
            "on: 5\n",
            "pirate: 1\n",
            "legends: 1\n",
            "folklore: 1\n",
            "such: 1\n",
            "those: 1\n",
            "Italian: 1\n",
            "writer: 1\n",
            "Emilio: 1\n",
            "Salgari: 1\n",
            "became: 1\n",
            "2000s: 1\n",
            "release: 1\n",
            "Curse: 1\n",
            "Black: 1\n",
            "Pearl: 1\n",
            "2003: 1\n",
            ";: 1\n",
            "it: 1\n",
            "followed: 1\n",
            "four: 1\n",
            "sequels: 1\n",
            "Produced: 1\n",
            "Jerry: 1\n",
            "Bruckheimer: 1\n",
            "originally: 1\n",
            "written: 2\n",
            "screenwriters: 1\n",
            "Ted: 1\n",
            "Elliott: 1\n",
            "Terry: 1\n",
            "Rossio: 1\n",
            "have: 4\n",
            "grossed: 1\n",
            "over: 1\n",
            "$: 1\n",
            "4.5: 1\n",
            "billion: 1\n",
            "worldwide: 1\n",
            "2019: 1\n",
            "[: 4\n",
            "1: 1\n",
            "]: 4\n",
            "putting: 1\n",
            "film: 5\n",
            "16th: 1\n",
            "list: 1\n",
            "all-time: 1\n",
            "highest-grossing: 1\n",
            "franchises: 1\n",
            "can: 1\n",
            "be: 1\n",
            "found: 1\n",
            "five: 1\n",
            "resorts: 1\n",
            "dark: 2\n",
            "World: 1\n",
            "Magic: 3\n",
            "Kingdom: 2\n",
            "Tokyo: 2\n",
            "Park: 1\n",
            "Paris: 1\n",
            "Opening: 1\n",
            "March: 1\n",
            "18: 1\n",
            "version: 1\n",
            "that: 1\n",
            "himself: 1\n",
            "participated: 1\n",
            "designing: 1\n",
            "debuting: 1\n",
            "three: 1\n",
            "months: 1\n",
            "after: 1\n",
            "his: 1\n",
            "death: 1\n",
            "2: 1\n",
            "gave: 1\n",
            "rise: 1\n",
            "to: 4\n",
            "song: 1\n",
            "``: 1\n",
            "Yo: 1\n",
            "Ho: 1\n",
            "(: 1\n",
            "A: 1\n",
            "Pirate: 2\n",
            "Life: 1\n",
            "for: 2\n",
            "Me: 1\n",
            "): 1\n",
            "'': 1\n",
            "George: 1\n",
            "Bruns: 1\n",
            "Xavier: 1\n",
            "Atencio: 1\n",
            "performed: 1\n",
            "recording: 1\n",
            "Mellomen: 1\n",
            "3: 1\n",
            "Lair: 1\n",
            "Tom: 3\n",
            "Sawyer: 3\n",
            "Island: 2\n",
            "rebranding: 1\n",
            "an: 1\n",
            "artificial: 1\n",
            "island: 1\n",
            "surrounded: 1\n",
            "Rivers: 1\n",
            "America: 1\n",
            "It: 3\n",
            "contains: 1\n",
            "structures: 1\n",
            "caves: 1\n",
            "references: 2\n",
            "Mark: 1\n",
            "Twain: 1\n",
            "characters: 1\n",
            "from: 2\n",
            "novel: 2\n",
            "Adventures: 2\n",
            "provides: 1\n",
            "interactive: 1\n",
            "climbing: 1\n",
            "scenic: 1\n",
            "opportunities: 1\n",
            "At: 1\n",
            "2007: 1\n",
            "added: 1\n",
            ":: 6\n",
            "Battle: 1\n",
            "Sunken: 1\n",
            "Treasure: 1\n",
            "magnetic: 1\n",
            "powered: 1\n",
            "Shanghai: 1\n",
            "uses: 1\n",
            "storyline: 1\n",
            "blends: 1\n",
            "digital: 1\n",
            "large-screen: 1\n",
            "projection: 1\n",
            "technology: 1\n",
            "traditional: 1\n",
            "set: 1\n",
            "pieces: 1\n",
            "audio: 1\n",
            "animatronics: 1\n",
            "Imagineering: 1\n",
            "designed: 1\n",
            "Industrial: 1\n",
            "Light: 1\n",
            "&: 1\n",
            "created: 1\n",
            "computer-generated: 1\n",
            "visual: 1\n",
            "effects: 1\n",
            "4: 1\n",
            "Two: 1\n",
            "young: 1\n",
            "reader: 1\n",
            "books: 3\n",
            "been: 3\n",
            "released: 1\n",
            "prequels: 1\n",
            "first: 1\n",
            "In: 1\n",
            "addition: 1\n",
            "there: 1\n",
            "taking: 1\n",
            "place: 1\n",
            "between: 1\n",
            "two: 1\n",
            "Novelizations: 1\n",
            "Further: 1\n",
            "fictional: 1\n",
            "Reference: 1\n",
            "German: 1\n",
            "novelizations: 1\n",
            "comic: 1\n",
            "Joe: 1\n",
            "Books: 1\n",
            "Ltd: 1\n",
            "Comic: 1\n",
            "book: 1\n",
            "adaptions: 1\n",
            "Comics: 1\n",
            "also: 1\n",
            "published: 1\n",
            "Pirati: 1\n",
            "dei: 1\n",
            "Caraibi: 1\n",
            "magazines: 1\n",
            "Several: 1\n",
            "additional: 1\n",
            "works: 1\n",
            "derived: 1\n",
            "Category: 1\n"
          ]
        }
      ]
    },
    {
      "cell_type": "code",
      "source": [
        "stop_words=set(stopwords.words(\"english\"))\n",
        "print(stop_words)"
      ],
      "metadata": {
        "colab": {
          "base_uri": "https://localhost:8080/"
        },
        "id": "R8gihUQqS4Ww",
        "outputId": "90c7430c-3813-4b8c-a6b0-f4513af1ad30"
      },
      "execution_count": 10,
      "outputs": [
        {
          "output_type": "stream",
          "name": "stdout",
          "text": [
            "{'off', 'will', \"you've\", 'this', 'nor', 'aren', 'couldn', 'd', 'there', \"mightn't\", 'its', 'won', 'after', \"should've\", 'herself', 'same', 'll', 'your', 'been', 'some', 'don', 'as', 'further', 'yourselves', 'itself', 'mightn', 'because', 'what', \"you're\", 'while', 'under', 'very', \"don't\", 'which', \"you'll\", 'other', 'just', 'than', 'he', 'above', 'hasn', 'have', \"it's\", 'at', 'where', 'over', \"hadn't\", 'isn', \"shouldn't\", 'it', 'how', 'himself', 'doesn', 'during', \"that'll\", 'shouldn', 'was', 'shan', 'ma', 'did', 'more', \"needn't\", 'any', 'own', 'our', 'were', 'weren', 'each', 'the', 'so', 'no', \"didn't\", 'ours', \"aren't\", 'theirs', 'can', 'from', 'o', 'y', \"wasn't\", 'ain', 'had', 'these', 'but', 'them', 'is', 'their', \"doesn't\", 'not', 'needn', 'of', \"she's\", 'only', 'yours', 'in', 'now', 'doing', 'both', \"wouldn't\", 'if', 'when', \"couldn't\", 'by', 'you', 'his', 'and', 'before', 'out', 'or', \"hasn't\", \"weren't\", 'up', 've', 'me', 'him', 'those', 'too', 'myself', 're', 'down', 'an', 'into', 'we', 'below', 'should', \"mustn't\", 'they', \"won't\", \"shan't\", 'm', 'between', 'do', 'against', 'didn', 'until', 'with', 'are', 'she', 'having', 'my', 'be', 'being', 'has', 'haven', 'all', 'ourselves', 's', 'am', \"isn't\", 'who', 'wouldn', 'again', 'i', \"haven't\", 'her', 'themselves', 'once', 'that', 'does', 'hadn', 't', 'hers', 'whom', 'through', 'then', 'for', 'most', 'here', 'such', 'about', 'on', 'to', 'few', 'mustn', \"you'd\", 'wasn', 'yourself', 'a', 'why'}\n"
          ]
        }
      ]
    },
    {
      "cell_type": "code",
      "source": [
        "filtered_tokens=[]\n",
        "for w in word_tokenize(text):\n",
        "    if w not in stop_words:\n",
        "         filtered_tokens.append(w)\n",
        "\n",
        "print(\"Tokenized Words:\",word_tokenize(text))\n",
        "print(\"Filterd Tokens:\",filtered_tokens)"
      ],
      "metadata": {
        "colab": {
          "base_uri": "https://localhost:8080/"
        },
        "id": "yQLoI1zwTFcn",
        "outputId": "80c55aa6-6e73-4072-a75a-776b168d2ddd"
      },
      "execution_count": 11,
      "outputs": [
        {
          "output_type": "stream",
          "name": "stdout",
          "text": [
            "Tokenized Words: ['Pirates', 'of', 'the', 'Caribbean', 'is', 'a', 'Disney', 'media', 'franchise', 'encompassing', 'numerous', 'theme', 'park', 'rides', ',', 'a', 'series', 'of', 'films', ',', 'and', 'spin-off', 'novels', ',', 'as', 'well', 'as', 'a', 'number', 'of', 'related', 'video', 'games', 'and', 'other', 'media', 'publications', '.', 'The', 'franchise', 'originated', 'with', 'Walt', 'Disney', \"'s\", 'theme', 'park', 'ride', 'of', 'the', 'same', 'name', ',', 'which', 'opened', 'at', 'Disneyland', 'in', '1967', 'and', 'was', 'one', 'of', 'the', 'last', 'Disneyland', 'attractions', 'overseen', 'by', 'Walt', 'Disney', '.', 'Disney', 'based', 'the', 'ride', 'on', 'pirate', 'legends', ',', 'folklore', 'and', 'novels', ',', 'such', 'as', 'those', 'by', 'Italian', 'writer', 'Emilio', 'Salgari', '.', 'Pirates', 'of', 'the', 'Caribbean', 'became', 'a', 'media', 'franchise', 'in', 'the', '2000s', 'with', 'the', 'release', 'of', 'The', 'Curse', 'of', 'the', 'Black', 'Pearl', 'in', '2003', ';', 'it', 'was', 'followed', 'by', 'four', 'sequels', '.', 'Produced', 'by', 'Jerry', 'Bruckheimer', 'and', 'originally', 'written', 'by', 'screenwriters', 'Ted', 'Elliott', 'and', 'Terry', 'Rossio', ',', 'the', 'films', 'have', 'grossed', 'over', '$', '4.5', 'billion', 'worldwide', 'by', '2019', ',', '[', '1', ']', 'putting', 'the', 'film', 'franchise', '16th', 'in', 'the', 'list', 'of', 'all-time', 'highest-grossing', 'franchises', 'and', 'film', 'series', '.', 'The', 'rides', 'can', 'be', 'found', 'at', 'five', 'Disney', 'theme', 'park', 'resorts', '.', 'Pirates', 'of', 'the', 'Caribbean', 'is', 'a', 'dark', 'ride', 'at', 'Disneyland', ',', 'Walt', 'Disney', 'World', \"'s\", 'Magic', 'Kingdom', ',', 'Tokyo', 'Disneyland', ',', 'and', 'Disneyland', 'Park', 'at', 'Disneyland', 'Paris', '.', 'Opening', 'on', 'March', '18', ',', '1967', ',', 'the', 'Disneyland', 'version', 'of', 'Pirates', 'of', 'the', 'Caribbean', 'was', 'the', 'last', 'ride', 'that', 'Walt', 'Disney', 'himself', 'participated', 'in', 'designing', ',', 'debuting', 'three', 'months', 'after', 'his', 'death', '.', '[', '2', ']', 'The', 'ride', 'gave', 'rise', 'to', 'the', 'song', '``', 'Yo', 'Ho', '(', 'A', 'Pirate', \"'s\", 'Life', 'for', 'Me', ')', \"''\", 'written', 'by', 'George', 'Bruns', 'and', 'Xavier', 'Atencio', ',', 'and', 'performed', 'on', 'the', 'ride', \"'s\", 'recording', 'by', 'The', 'Mellomen', '.', '[', '3', ']', 'Pirate', \"'s\", 'Lair', 'on', 'Tom', 'Sawyer', 'Island', 'is', 'a', 'rebranding', 'of', 'Tom', 'Sawyer', 'Island', ',', 'an', 'artificial', 'island', 'surrounded', 'by', 'the', 'Rivers', 'of', 'America', 'at', 'Disneyland', ',', 'Magic', 'Kingdom', 'and', 'Tokyo', 'Disneyland', '.', 'It', 'contains', 'structures', 'and', 'caves', 'with', 'references', 'to', 'Mark', 'Twain', 'characters', 'from', 'the', 'novel', 'The', 'Adventures', 'of', 'Tom', 'Sawyer', ',', 'and', 'provides', 'interactive', ',', 'climbing', ',', 'and', 'scenic', 'opportunities', '.', 'At', 'Disneyland', 'in', '2007', ',', 'Disney', 'added', 'references', 'to', 'the', 'Pirates', 'of', 'the', 'Caribbean', 'film', 'series', '.', 'Pirates', 'of', 'the', 'Caribbean', ':', 'Battle', 'for', 'the', 'Sunken', 'Treasure', 'is', 'a', 'magnetic', 'powered', 'dark', 'ride', 'at', 'Shanghai', 'Disneyland', '.', 'It', 'uses', 'a', 'storyline', 'based', 'on', 'the', 'Pirates', 'of', 'the', 'Caribbean', 'film', 'series', '.', 'It', 'blends', 'digital', 'large-screen', 'projection', 'technology', 'with', 'traditional', 'set', 'pieces', 'and', 'audio', 'animatronics', '.', 'Walt', 'Disney', 'Imagineering', 'designed', 'the', 'ride', 'and', 'Industrial', 'Light', '&', 'Magic', 'created', 'the', 'computer-generated', 'visual', 'effects', '.', '[', '4', ']', 'Two', 'series', 'of', 'young', 'reader', 'books', 'have', 'been', 'released', 'as', 'prequels', 'to', 'the', 'first', 'film', ':', 'In', 'addition', 'there', 'is', 'a', 'novel', 'taking', 'place', 'between', 'the', 'two', 'series', ':', 'Novelizations', 'Further', 'fictional', 'books', 'Reference', 'books', 'German', 'novelizations', 'The', 'Pirates', 'of', 'the', 'Caribbean', 'comic', 'series', 'by', 'Joe', 'Books', 'Ltd', ':', 'Comic', 'book', 'adaptions', ':', 'Comics', 'have', 'also', 'been', 'published', 'in', 'the', 'Disney', 'Adventures', 'and', 'Pirati', 'dei', 'Caraibi', 'magazines', '.', 'Several', 'additional', 'works', 'have', 'been', 'derived', 'from', 'the', 'franchise', ':', 'Category']\n",
            "Filterd Tokens: ['Pirates', 'Caribbean', 'Disney', 'media', 'franchise', 'encompassing', 'numerous', 'theme', 'park', 'rides', ',', 'series', 'films', ',', 'spin-off', 'novels', ',', 'well', 'number', 'related', 'video', 'games', 'media', 'publications', '.', 'The', 'franchise', 'originated', 'Walt', 'Disney', \"'s\", 'theme', 'park', 'ride', 'name', ',', 'opened', 'Disneyland', '1967', 'one', 'last', 'Disneyland', 'attractions', 'overseen', 'Walt', 'Disney', '.', 'Disney', 'based', 'ride', 'pirate', 'legends', ',', 'folklore', 'novels', ',', 'Italian', 'writer', 'Emilio', 'Salgari', '.', 'Pirates', 'Caribbean', 'became', 'media', 'franchise', '2000s', 'release', 'The', 'Curse', 'Black', 'Pearl', '2003', ';', 'followed', 'four', 'sequels', '.', 'Produced', 'Jerry', 'Bruckheimer', 'originally', 'written', 'screenwriters', 'Ted', 'Elliott', 'Terry', 'Rossio', ',', 'films', 'grossed', '$', '4.5', 'billion', 'worldwide', '2019', ',', '[', '1', ']', 'putting', 'film', 'franchise', '16th', 'list', 'all-time', 'highest-grossing', 'franchises', 'film', 'series', '.', 'The', 'rides', 'found', 'five', 'Disney', 'theme', 'park', 'resorts', '.', 'Pirates', 'Caribbean', 'dark', 'ride', 'Disneyland', ',', 'Walt', 'Disney', 'World', \"'s\", 'Magic', 'Kingdom', ',', 'Tokyo', 'Disneyland', ',', 'Disneyland', 'Park', 'Disneyland', 'Paris', '.', 'Opening', 'March', '18', ',', '1967', ',', 'Disneyland', 'version', 'Pirates', 'Caribbean', 'last', 'ride', 'Walt', 'Disney', 'participated', 'designing', ',', 'debuting', 'three', 'months', 'death', '.', '[', '2', ']', 'The', 'ride', 'gave', 'rise', 'song', '``', 'Yo', 'Ho', '(', 'A', 'Pirate', \"'s\", 'Life', 'Me', ')', \"''\", 'written', 'George', 'Bruns', 'Xavier', 'Atencio', ',', 'performed', 'ride', \"'s\", 'recording', 'The', 'Mellomen', '.', '[', '3', ']', 'Pirate', \"'s\", 'Lair', 'Tom', 'Sawyer', 'Island', 'rebranding', 'Tom', 'Sawyer', 'Island', ',', 'artificial', 'island', 'surrounded', 'Rivers', 'America', 'Disneyland', ',', 'Magic', 'Kingdom', 'Tokyo', 'Disneyland', '.', 'It', 'contains', 'structures', 'caves', 'references', 'Mark', 'Twain', 'characters', 'novel', 'The', 'Adventures', 'Tom', 'Sawyer', ',', 'provides', 'interactive', ',', 'climbing', ',', 'scenic', 'opportunities', '.', 'At', 'Disneyland', '2007', ',', 'Disney', 'added', 'references', 'Pirates', 'Caribbean', 'film', 'series', '.', 'Pirates', 'Caribbean', ':', 'Battle', 'Sunken', 'Treasure', 'magnetic', 'powered', 'dark', 'ride', 'Shanghai', 'Disneyland', '.', 'It', 'uses', 'storyline', 'based', 'Pirates', 'Caribbean', 'film', 'series', '.', 'It', 'blends', 'digital', 'large-screen', 'projection', 'technology', 'traditional', 'set', 'pieces', 'audio', 'animatronics', '.', 'Walt', 'Disney', 'Imagineering', 'designed', 'ride', 'Industrial', 'Light', '&', 'Magic', 'created', 'computer-generated', 'visual', 'effects', '.', '[', '4', ']', 'Two', 'series', 'young', 'reader', 'books', 'released', 'prequels', 'first', 'film', ':', 'In', 'addition', 'novel', 'taking', 'place', 'two', 'series', ':', 'Novelizations', 'Further', 'fictional', 'books', 'Reference', 'books', 'German', 'novelizations', 'The', 'Pirates', 'Caribbean', 'comic', 'series', 'Joe', 'Books', 'Ltd', ':', 'Comic', 'book', 'adaptions', ':', 'Comics', 'also', 'published', 'Disney', 'Adventures', 'Pirati', 'dei', 'Caraibi', 'magazines', '.', 'Several', 'additional', 'works', 'derived', 'franchise', ':', 'Category']\n"
          ]
        }
      ]
    },
    {
      "cell_type": "code",
      "source": [
        "# Remove stopwords & punctuations\n",
        "stop_words = set(stopwords.words('english'))\n",
        "filtered_words = [word.lower() for word in words if word.isalnum() and word.lower() not in stop_words]"
      ],
      "metadata": {
        "id": "lFxcxnGOTLRX"
      },
      "execution_count": 13,
      "outputs": []
    },
    {
      "cell_type": "code",
      "source": [
        "# Lexicon Normalization (Stemming, Lemmatization)\n",
        "porter = PorterStemmer()\n",
        "stemmed_words = [porter.stem(word) for word in filtered_words]\n",
        "lemmatizer = WordNetLemmatizer()\n",
        "lemmatized_words = [lemmatizer.lemmatize(word) for word in filtered_words]\n",
        "\n",
        "print(\"Stemmed Words:\", stemmed_words[:10])\n",
        "print(\"Lemmatized Words:\", lemmatized_words[:10])"
      ],
      "metadata": {
        "colab": {
          "base_uri": "https://localhost:8080/"
        },
        "id": "j-nEBNgMTOF_",
        "outputId": "d7cedc09-d938-48cf-a4b5-239679490905"
      },
      "execution_count": 16,
      "outputs": [
        {
          "output_type": "stream",
          "name": "stdout",
          "text": [
            "Stemmed Words: ['pirat', 'caribbean', 'disney', 'media', 'franchis', 'encompass', 'numer', 'theme', 'park', 'ride']\n",
            "Lemmatized Words: ['pirate', 'caribbean', 'disney', 'medium', 'franchise', 'encompassing', 'numerous', 'theme', 'park', 'ride']\n"
          ]
        }
      ]
    },
    {
      "cell_type": "code",
      "source": [
        "# Part of Speech tagging\n",
        "pos_tags = pos_tag(filtered_words)\n",
        "\n",
        "# Named Entity Recognition\n",
        "named_entities = ne_chunk(pos_tags)\n",
        "\n",
        "print(\"POS Tags:\", pos_tags[:10])\n",
        "print(\"Named Entities:\", named_entities[:10])"
      ],
      "metadata": {
        "colab": {
          "base_uri": "https://localhost:8080/"
        },
        "id": "xAjBMm-ih8zd",
        "outputId": "393ca9ae-5c7f-4021-dbca-d52746009899"
      },
      "execution_count": 21,
      "outputs": [
        {
          "output_type": "stream",
          "name": "stdout",
          "text": [
            "POS Tags: [('pirates', 'NNS'), ('caribbean', 'VBP'), ('disney', 'JJ'), ('media', 'NNS'), ('franchise', 'NN'), ('encompassing', 'VBG'), ('numerous', 'JJ'), ('theme', 'NN'), ('park', 'NN'), ('rides', 'VBZ')]\n",
            "Named Entities: [('pirates', 'NNS'), ('caribbean', 'VBP'), ('disney', 'JJ'), ('media', 'NNS'), ('franchise', 'NN'), ('encompassing', 'VBG'), ('numerous', 'JJ'), ('theme', 'NN'), ('park', 'NN'), ('rides', 'VBZ')]\n"
          ]
        }
      ]
    },
    {
      "cell_type": "code",
      "source": [
        "\n"
      ],
      "metadata": {
        "colab": {
          "base_uri": "https://localhost:8080/"
        },
        "id": "unyEJTRqh8xW",
        "outputId": "e42f3e0a-68ba-4871-d1c9-f706a7217586"
      },
      "execution_count": null,
      "outputs": [
        {
          "output_type": "stream",
          "name": "stdout",
          "text": [
            "\n",
            "Processed Text:\n",
            "Sentences: 18\n",
            "Words before processing: 515\n",
            "Words after processing: 277\n",
            "Stemmed Words: ['pirat', 'caribbean', 'disney', 'media', 'franchis', 'encompass', 'numer', 'theme', 'park', 'ride']\n",
            "Lemmatized Words: ['pirate', 'caribbean', 'disney', 'medium', 'franchise', 'encompassing', 'numerous', 'theme', 'park', 'ride']\n",
            "POS Tags: [('pirates', 'NNS'), ('caribbean', 'VBP'), ('disney', 'JJ'), ('media', 'NNS'), ('franchise', 'NN'), ('encompassing', 'VBG'), ('numerous', 'JJ'), ('theme', 'NN'), ('park', 'NN'), ('rides', 'VBZ')]\n",
            "Named Entities: [('pirates', 'NNS'), ('caribbean', 'VBP'), ('disney', 'JJ'), ('media', 'NNS'), ('franchise', 'NN'), ('encompassing', 'VBG'), ('numerous', 'JJ'), ('theme', 'NN'), ('park', 'NN'), ('rides', 'VBZ')]\n"
          ]
        }
      ]
    },
    {
      "cell_type": "markdown",
      "source": [
        "## **Text Analytics in R**"
      ],
      "metadata": {
        "id": "iAlz512RiqK2"
      }
    },
    {
      "cell_type": "code",
      "source": [
        "library(tm)\n",
        "library(rvest)\n",
        "library(NLP)\n",
        "library(tokenizers)\n",
        "library(SnowballC)"
      ],
      "metadata": {
        "id": "LXO8L3mKh8kO",
        "colab": {
          "base_uri": "https://localhost:8080/"
        },
        "outputId": "f54791d5-27c3-4461-cf3c-dd7dff1bf0e0"
      },
      "execution_count": 1,
      "outputs": [
        {
          "output_type": "stream",
          "name": "stderr",
          "text": [
            "Loading required package: NLP\n",
            "\n"
          ]
        }
      ]
    },
    {
      "cell_type": "code",
      "source": [
        "# Tokenisation\n",
        "text <- readline(prompt = \"Enter text: \")\n",
        "\n",
        "word_tokens <- unlist(tokenize_words(text))\n",
        "sentence_tokens <- unlist(tokenize_sentences(text))\n",
        "\n",
        "cat(\"\\nTokenized words:\\n\")\n",
        "print(word_tokens)\n",
        "\n",
        "cat(\"\\nTokenized sentences:\\n\")\n",
        "print(sentence_tokens)"
      ],
      "metadata": {
        "colab": {
          "base_uri": "https://localhost:8080/"
        },
        "id": "71UwyFuLNtwn",
        "outputId": "6adf371b-5a33-4546-d6a5-860f9d69a2c3"
      },
      "execution_count": 2,
      "outputs": [
        {
          "output_type": "stream",
          "name": "stdout",
          "text": [
            "Enter text:  Pirates of the Caribbean is a Disney media franchise encompassing numerous theme park rides, a series of films, and spin-off novels, as well as a number of related video games and other media publications. The franchise originated with Walt Disney's theme park ride of the same name, which opened at Disneyland in 1967 and was one of the last Disneyland attractions overseen by Walt Disney. Disney based the ride on pirate legends, folklore and novels, such as those by Italian writer Emilio Salgari.  Pirates of the Caribbean became a media franchise in the 2000s with the release of The Curse of the Black Pearl in 2003; it was followed by four sequels. Produced by Jerry Bruckheimer and originally written by screenwriters Ted Elliott and Terry Rossio, the films have grossed over $4.5 billion worldwide by 2019,[1] putting the film franchise 16th in the list of all-time highest-grossing franchises and film series. The rides can be found at five Disney theme park resorts.  Pirates of the Caribbean is a dark ride at Disneyland, Walt Disney World's Magic Kingdom, Tokyo Disneyland, and Disneyland Park at Disneyland Paris. Opening on March 18, 1967, the Disneyland version of Pirates of the Caribbean was the last ride that Walt Disney himself participated in designing, debuting three months after his death.[2] The ride gave rise to the song \"Yo Ho (A Pirate's Life for Me)\" written by George Bruns and Xavier Atencio, and performed on the ride's recording by The Mellomen.[3]  Pirate's Lair on Tom Sawyer Island is a rebranding of Tom Sawyer Island, an artificial island surrounded by the Rivers of America at Disneyland, Magic Kingdom and Tokyo Disneyland. It contains structures and caves with references to Mark Twain characters from the novel The Adventures of Tom Sawyer, and provides interactive, climbing, and scenic opportunities. At Disneyland in 2007, Disney added references to the Pirates of the Caribbean film series.  Pirates of the Caribbean: Battle for the Sunken Treasure is a magnetic powered dark ride at Shanghai Disneyland. It uses a storyline based on the Pirates of the Caribbean film series. It blends digital large-screen projection technology with traditional set pieces and audio animatronics. Walt Disney Imagineering designed the ride and Industrial Light & Magic created the computer-generated visual effects.[4]  Two series of young reader books have been released as prequels to the first film:\n",
            "\n",
            "Tokenized words:\n",
            "  [1] \"pirates\"       \"of\"            \"the\"           \"caribbean\"    \n",
            "  [5] \"is\"            \"a\"             \"disney\"        \"media\"        \n",
            "  [9] \"franchise\"     \"encompassing\"  \"numerous\"      \"theme\"        \n",
            " [13] \"park\"          \"rides\"         \"a\"             \"series\"       \n",
            " [17] \"of\"            \"films\"         \"and\"           \"spin\"         \n",
            " [21] \"off\"           \"novels\"        \"as\"            \"well\"         \n",
            " [25] \"as\"            \"a\"             \"number\"        \"of\"           \n",
            " [29] \"related\"       \"video\"         \"games\"         \"and\"          \n",
            " [33] \"other\"         \"media\"         \"publications\"  \"the\"          \n",
            " [37] \"franchise\"     \"originated\"    \"with\"          \"walt\"         \n",
            " [41] \"disney's\"      \"theme\"         \"park\"          \"ride\"         \n",
            " [45] \"of\"            \"the\"           \"same\"          \"name\"         \n",
            " [49] \"which\"         \"opened\"        \"at\"            \"disneyland\"   \n",
            " [53] \"in\"            \"1967\"          \"and\"           \"was\"          \n",
            " [57] \"one\"           \"of\"            \"the\"           \"last\"         \n",
            " [61] \"disneyland\"    \"attractions\"   \"overseen\"      \"by\"           \n",
            " [65] \"walt\"          \"disney\"        \"disney\"        \"based\"        \n",
            " [69] \"the\"           \"ride\"          \"on\"            \"pirate\"       \n",
            " [73] \"legends\"       \"folklore\"      \"and\"           \"novels\"       \n",
            " [77] \"such\"          \"as\"            \"those\"         \"by\"           \n",
            " [81] \"italian\"       \"writer\"        \"emilio\"        \"salgari\"      \n",
            " [85] \"pirates\"       \"of\"            \"the\"           \"caribbean\"    \n",
            " [89] \"became\"        \"a\"             \"media\"         \"franchise\"    \n",
            " [93] \"in\"            \"the\"           \"2000s\"         \"with\"         \n",
            " [97] \"the\"           \"release\"       \"of\"            \"the\"          \n",
            "[101] \"curse\"         \"of\"            \"the\"           \"black\"        \n",
            "[105] \"pearl\"         \"in\"            \"2003\"          \"it\"           \n",
            "[109] \"was\"           \"followed\"      \"by\"            \"four\"         \n",
            "[113] \"sequels\"       \"produced\"      \"by\"            \"jerry\"        \n",
            "[117] \"bruckheimer\"   \"and\"           \"originally\"    \"written\"      \n",
            "[121] \"by\"            \"screenwriters\" \"ted\"           \"elliott\"      \n",
            "[125] \"and\"           \"terry\"         \"rossio\"        \"the\"          \n",
            "[129] \"films\"         \"have\"          \"grossed\"       \"over\"         \n",
            "[133] \"4.5\"           \"billion\"       \"worldwide\"     \"by\"           \n",
            "[137] \"2019\"          \"1\"             \"putting\"       \"the\"          \n",
            "[141] \"film\"          \"franchise\"     \"16th\"          \"in\"           \n",
            "[145] \"the\"           \"list\"          \"of\"            \"all\"          \n",
            "[149] \"time\"          \"highest\"       \"grossing\"      \"franchises\"   \n",
            "[153] \"and\"           \"film\"          \"series\"        \"the\"          \n",
            "[157] \"rides\"         \"can\"           \"be\"            \"found\"        \n",
            "[161] \"at\"            \"five\"          \"disney\"        \"theme\"        \n",
            "[165] \"park\"          \"resorts\"       \"pirates\"       \"of\"           \n",
            "[169] \"the\"           \"caribbean\"     \"is\"            \"a\"            \n",
            "[173] \"dark\"          \"ride\"          \"at\"            \"disneyland\"   \n",
            "[177] \"walt\"          \"disney\"        \"world's\"       \"magic\"        \n",
            "[181] \"kingdom\"       \"tokyo\"         \"disneyland\"    \"and\"          \n",
            "[185] \"disneyland\"    \"park\"          \"at\"            \"disneyland\"   \n",
            "[189] \"paris\"         \"opening\"       \"on\"            \"march\"        \n",
            "[193] \"18\"            \"1967\"          \"the\"           \"disneyland\"   \n",
            "[197] \"version\"       \"of\"            \"pirates\"       \"of\"           \n",
            "[201] \"the\"           \"caribbean\"     \"was\"           \"the\"          \n",
            "[205] \"last\"          \"ride\"          \"that\"          \"walt\"         \n",
            "[209] \"disney\"        \"himself\"       \"participated\"  \"in\"           \n",
            "[213] \"designing\"     \"debuting\"      \"three\"         \"months\"       \n",
            "[217] \"after\"         \"his\"           \"death\"         \"2\"            \n",
            "[221] \"the\"           \"ride\"          \"gave\"          \"rise\"         \n",
            "[225] \"to\"            \"the\"           \"song\"          \"yo\"           \n",
            "[229] \"ho\"            \"a\"             \"pirate's\"      \"life\"         \n",
            "[233] \"for\"           \"me\"            \"written\"       \"by\"           \n",
            "[237] \"george\"        \"bruns\"         \"and\"           \"xavier\"       \n",
            "[241] \"atencio\"       \"and\"           \"performed\"     \"on\"           \n",
            "[245] \"the\"           \"ride's\"        \"recording\"     \"by\"           \n",
            "[249] \"the\"           \"mellomen\"      \"3\"             \"pirate's\"     \n",
            "[253] \"lair\"          \"on\"            \"tom\"           \"sawyer\"       \n",
            "[257] \"island\"        \"is\"            \"a\"             \"rebranding\"   \n",
            "[261] \"of\"            \"tom\"           \"sawyer\"        \"island\"       \n",
            "[265] \"an\"            \"artificial\"    \"island\"        \"surrounded\"   \n",
            "[269] \"by\"            \"the\"           \"rivers\"        \"of\"           \n",
            "[273] \"america\"       \"at\"            \"disneyland\"    \"magic\"        \n",
            "[277] \"kingdom\"       \"and\"           \"tokyo\"         \"disneyland\"   \n",
            "[281] \"it\"            \"contains\"      \"structures\"    \"and\"          \n",
            "[285] \"caves\"         \"with\"          \"references\"    \"to\"           \n",
            "[289] \"mark\"          \"twain\"         \"characters\"    \"from\"         \n",
            "[293] \"the\"           \"novel\"         \"the\"           \"adventures\"   \n",
            "[297] \"of\"            \"tom\"           \"sawyer\"        \"and\"          \n",
            "[301] \"provides\"      \"interactive\"   \"climbing\"      \"and\"          \n",
            "[305] \"scenic\"        \"opportunities\" \"at\"            \"disneyland\"   \n",
            "[309] \"in\"            \"2007\"          \"disney\"        \"added\"        \n",
            "[313] \"references\"    \"to\"            \"the\"           \"pirates\"      \n",
            "[317] \"of\"            \"the\"           \"caribbean\"     \"film\"         \n",
            "[321] \"series\"        \"pirates\"       \"of\"            \"the\"          \n",
            "[325] \"caribbean\"     \"battle\"        \"for\"           \"the\"          \n",
            "[329] \"sunken\"        \"treasure\"      \"is\"            \"a\"            \n",
            "[333] \"magnetic\"      \"powered\"       \"dark\"          \"ride\"         \n",
            "[337] \"at\"            \"shanghai\"      \"disneyland\"    \"it\"           \n",
            "[341] \"uses\"          \"a\"             \"storyline\"     \"based\"        \n",
            "[345] \"on\"            \"the\"           \"pirates\"       \"of\"           \n",
            "[349] \"the\"           \"caribbean\"     \"film\"          \"series\"       \n",
            "[353] \"it\"            \"blends\"        \"digital\"       \"large\"        \n",
            "[357] \"screen\"        \"projection\"    \"technology\"    \"with\"         \n",
            "[361] \"traditional\"   \"set\"           \"pieces\"        \"and\"          \n",
            "[365] \"audio\"         \"animatronics\"  \"walt\"          \"disney\"       \n",
            "[369] \"imagineering\"  \"designed\"      \"the\"           \"ride\"         \n",
            "[373] \"and\"           \"industrial\"    \"light\"         \"magic\"        \n",
            "[377] \"created\"       \"the\"           \"computer\"      \"generated\"    \n",
            "[381] \"visual\"        \"effects\"       \"4\"             \"two\"          \n",
            "[385] \"series\"        \"of\"            \"young\"         \"reader\"       \n",
            "[389] \"books\"         \"have\"          \"been\"          \"released\"     \n",
            "[393] \"as\"            \"prequels\"      \"to\"            \"the\"          \n",
            "[397] \"first\"         \"film\"         \n",
            "\n",
            "Tokenized sentences:\n",
            " [1] \"Pirates of the Caribbean is a Disney media franchise encompassing numerous theme park rides, a series of films, and spin-off novels, as well as a number of related video games and other media publications.\"                                                          \n",
            " [2] \"The franchise originated with Walt Disney's theme park ride of the same name, which opened at Disneyland in 1967 and was one of the last Disneyland attractions overseen by Walt Disney.\"                                                                               \n",
            " [3] \"Disney based the ride on pirate legends, folklore and novels, such as those by Italian writer Emilio Salgari.\"                                                                                                                                                          \n",
            " [4] \"Pirates of the Caribbean became a media franchise in the 2000s with the release of The Curse of the Black Pearl in 2003; it was followed by four sequels.\"                                                                                                              \n",
            " [5] \"Produced by Jerry Bruckheimer and originally written by screenwriters Ted Elliott and Terry Rossio, the films have grossed over $4.5 billion worldwide by 2019,[1] putting the film franchise 16th in the list of all-time highest-grossing franchises and film series.\"\n",
            " [6] \"The rides can be found at five Disney theme park resorts.\"                                                                                                                                                                                                              \n",
            " [7] \"Pirates of the Caribbean is a dark ride at Disneyland, Walt Disney World's Magic Kingdom, Tokyo Disneyland, and Disneyland Park at Disneyland Paris.\"                                                                                                                   \n",
            " [8] \"Opening on March 18, 1967, the Disneyland version of Pirates of the Caribbean was the last ride that Walt Disney himself participated in designing, debuting three months after his death.[\"                                                                            \n",
            " [9] \"2] The ride gave rise to the song \\\"Yo Ho (A Pirate's Life for Me)\\\" written by George Bruns and Xavier Atencio, and performed on the ride's recording by The Mellomen.[\"                                                                                               \n",
            "[10] \"3]  Pirate's Lair on Tom Sawyer Island is a rebranding of Tom Sawyer Island, an artificial island surrounded by the Rivers of America at Disneyland, Magic Kingdom and Tokyo Disneyland.\"                                                                               \n",
            "[11] \"It contains structures and caves with references to Mark Twain characters from the novel The Adventures of Tom Sawyer, and provides interactive, climbing, and scenic opportunities.\"                                                                                   \n",
            "[12] \"At Disneyland in 2007, Disney added references to the Pirates of the Caribbean film series.\"                                                                                                                                                                            \n",
            "[13] \"Pirates of the Caribbean: Battle for the Sunken Treasure is a magnetic powered dark ride at Shanghai Disneyland.\"                                                                                                                                                       \n",
            "[14] \"It uses a storyline based on the Pirates of the Caribbean film series.\"                                                                                                                                                                                                 \n",
            "[15] \"It blends digital large-screen projection technology with traditional set pieces and audio animatronics.\"                                                                                                                                                               \n",
            "[16] \"Walt Disney Imagineering designed the ride and Industrial Light & Magic created the computer-generated visual effects.[\"                                                                                                                                                \n",
            "[17] \"4]  Two series of young reader books have been released as prequels to the first film:\"                                                                                                                                                                                 \n"
          ]
        }
      ]
    },
    {
      "cell_type": "code",
      "source": [
        "word_freq <- table(word_tokens)\n",
        "\n",
        "print(\"Most common words:\")\n",
        "print(head(sort(word_freq, decreasing = TRUE), 2))\n",
        "\n",
        "print(\"Frequency of each word:\")\n",
        "print(word_freq)"
      ],
      "metadata": {
        "colab": {
          "base_uri": "https://localhost:8080/"
        },
        "id": "THHEEOuaNtu5",
        "outputId": "ce9df9a6-1005-43e5-f1c3-43ab8123d1be"
      },
      "execution_count": 3,
      "outputs": [
        {
          "output_type": "stream",
          "name": "stdout",
          "text": [
            "[1] \"Most common words:\"\n",
            "word_tokens\n",
            "the  of \n",
            " 34  19 \n",
            "[1] \"Frequency of each word:\"\n",
            "word_tokens\n",
            "            1          16th            18          1967             2 \n",
            "            1             1             1             2             1 \n",
            "        2000s          2003          2007          2019             3 \n",
            "            1             1             1             1             1 \n",
            "            4           4.5             a         added    adventures \n",
            "            1             1             9             1             1 \n",
            "        after           all       america            an           and \n",
            "            1             1             1             1            16 \n",
            " animatronics    artificial            as            at       atencio \n",
            "            1             1             4             7             1 \n",
            "  attractions         audio         based        battle            be \n",
            "            1             1             2             1             1 \n",
            "       became          been       billion         black        blends \n",
            "            1             1             1             1             1 \n",
            "        books   bruckheimer         bruns            by           can \n",
            "            1             1             1             9             1 \n",
            "    caribbean         caves    characters      climbing      computer \n",
            "            7             1             1             1             1 \n",
            "     contains       created         curse          dark         death \n",
            "            1             1             1             2             1 \n",
            "     debuting      designed     designing       digital        disney \n",
            "            1             1             1             1             8 \n",
            "     disney's    disneyland       effects       elliott        emilio \n",
            "            1            11             1             1             1 \n",
            " encompassing          film         films         first          five \n",
            "            1             5             2             1             1 \n",
            "     folklore      followed           for         found          four \n",
            "            1             1             2             1             1 \n",
            "    franchise    franchises          from         games          gave \n",
            "            4             1             1             1             1 \n",
            "    generated        george       grossed      grossing          have \n",
            "            1             1             1             1             2 \n",
            "      highest       himself           his            ho  imagineering \n",
            "            1             1             1             1             1 \n",
            "           in    industrial   interactive            is        island \n",
            "            6             1             1             4             3 \n",
            "           it       italian         jerry       kingdom          lair \n",
            "            4             1             1             2             1 \n",
            "        large          last       legends          life         light \n",
            "            1             2             1             1             1 \n",
            "         list         magic      magnetic         march          mark \n",
            "            1             3             1             1             1 \n",
            "           me         media      mellomen        months          name \n",
            "            1             3             1             1             1 \n",
            "        novel        novels        number      numerous            of \n",
            "            1             2             1             1            19 \n",
            "          off            on           one        opened       opening \n",
            "            1             5             1             1             1 \n",
            "opportunities    originally    originated         other          over \n",
            "            1             1             1             1             1 \n",
            "     overseen         paris          park  participated         pearl \n",
            "            1             1             4             1             1 \n",
            "    performed        pieces        pirate      pirate's       pirates \n",
            "            1             1             1             2             7 \n",
            "      powered      prequels      produced    projection      provides \n",
            "            1             1             1             1             1 \n",
            " publications       putting        reader    rebranding     recording \n",
            "            1             1             1             1             1 \n",
            "   references       related       release      released       resorts \n",
            "            2             1             1             1             1 \n",
            "         ride        ride's         rides          rise        rivers \n",
            "            7             1             2             1             1 \n",
            "       rossio       salgari          same        sawyer        scenic \n",
            "            1             1             1             3             1 \n",
            "       screen screenwriters       sequels        series           set \n",
            "            1             1             1             5             1 \n",
            "     shanghai          song          spin     storyline    structures \n",
            "            1             1             1             1             1 \n",
            "         such        sunken    surrounded    technology           ted \n",
            "            1             1             1             1             1 \n",
            "        terry          that           the         theme         those \n",
            "            1             1            34             3             1 \n",
            "        three          time            to         tokyo           tom \n",
            "            1             1             4             2             3 \n",
            "  traditional      treasure         twain           two          uses \n",
            "            1             1             1             1             1 \n",
            "      version         video        visual          walt           was \n",
            "            1             1             1             5             3 \n",
            "         well         which          with       world's     worldwide \n",
            "            1             1             4             1             1 \n",
            "       writer       written        xavier            yo         young \n",
            "            1             2             1             1             1 \n"
          ]
        }
      ]
    },
    {
      "cell_type": "code",
      "source": [
        "# Remove stopwords and punctuations\n",
        "stop_words <- stopwords(\"en\")\n",
        "filtered_tokens <- word_tokens[!(word_tokens %in% stop_words) & grepl(\"[a-zA-Z]\", word_tokens)]\n",
        "cat(\"Filtered Tokens (without stopwords and punctuations):\", filtered_tokens, \"\\n\")"
      ],
      "metadata": {
        "colab": {
          "base_uri": "https://localhost:8080/"
        },
        "id": "TgSyBaABNtso",
        "outputId": "5e55ae69-8240-4f61-e833-1f1c3a84ecee"
      },
      "execution_count": 4,
      "outputs": [
        {
          "output_type": "stream",
          "name": "stdout",
          "text": [
            "Filtered Tokens (without stopwords and punctuations): pirates caribbean disney media franchise encompassing numerous theme park rides series films spin novels well number related video games media publications franchise originated walt disney's theme park ride name opened disneyland one last disneyland attractions overseen walt disney disney based ride pirate legends folklore novels italian writer emilio salgari pirates caribbean became media franchise 2000s release curse black pearl followed four sequels produced jerry bruckheimer originally written screenwriters ted elliott terry rossio films grossed billion worldwide putting film franchise 16th list time highest grossing franchises film series rides can found five disney theme park resorts pirates caribbean dark ride disneyland walt disney world's magic kingdom tokyo disneyland disneyland park disneyland paris opening march disneyland version pirates caribbean last ride walt disney participated designing debuting three months death ride gave rise song yo ho pirate's life written george bruns xavier atencio performed ride's recording mellomen pirate's lair tom sawyer island rebranding tom sawyer island artificial island surrounded rivers america disneyland magic kingdom tokyo disneyland contains structures caves references mark twain characters novel adventures tom sawyer provides interactive climbing scenic opportunities disneyland disney added references pirates caribbean film series pirates caribbean battle sunken treasure magnetic powered dark ride shanghai disneyland uses storyline based pirates caribbean film series blends digital large screen projection technology traditional set pieces audio animatronics walt disney imagineering designed ride industrial light magic created computer generated visual effects two series young reader books released prequels first film \n"
          ]
        }
      ]
    },
    {
      "cell_type": "code",
      "source": [
        "stemming <- function(text) {\n",
        "  corpus <- Corpus(VectorSource(text))\n",
        "  corpus <- tm_map(corpus, stemDocument)\n",
        "  return(corpus)\n",
        "}\n",
        "\n",
        "stemmed_corpus <- stemming(filtered_tokens)\n",
        "\n",
        "print(\"Stemmed Tokens:\")\n",
        "print(unlist(sapply(stemmed_corpus, as.character)))"
      ],
      "metadata": {
        "colab": {
          "base_uri": "https://localhost:8080/"
        },
        "id": "wqvJRFSkNtpA",
        "outputId": "55c72a77-9dd2-45be-c683-0dd48d4e0ad9"
      },
      "execution_count": 5,
      "outputs": [
        {
          "output_type": "stream",
          "name": "stderr",
          "text": [
            "Warning message in tm_map.SimpleCorpus(corpus, stemDocument):\n",
            "“transformation drops documents”\n"
          ]
        },
        {
          "output_type": "stream",
          "name": "stdout",
          "text": [
            "[1] \"Stemmed Tokens:\"\n",
            "  [1] \"pirat\"      \"caribbean\"  \"disney\"     \"media\"      \"franchis\"  \n",
            "  [6] \"encompass\"  \"numer\"      \"theme\"      \"park\"       \"ride\"      \n",
            " [11] \"seri\"       \"film\"       \"spin\"       \"novel\"      \"well\"      \n",
            " [16] \"number\"     \"relat\"      \"video\"      \"game\"       \"media\"     \n",
            " [21] \"public\"     \"franchis\"   \"origin\"     \"walt\"       \"disney\"    \n",
            " [26] \"theme\"      \"park\"       \"ride\"       \"name\"       \"open\"      \n",
            " [31] \"disneyland\" \"one\"        \"last\"       \"disneyland\" \"attract\"   \n",
            " [36] \"overseen\"   \"walt\"       \"disney\"     \"disney\"     \"base\"      \n",
            " [41] \"ride\"       \"pirat\"      \"legend\"     \"folklor\"    \"novel\"     \n",
            " [46] \"italian\"    \"writer\"     \"emilio\"     \"salgari\"    \"pirat\"     \n",
            " [51] \"caribbean\"  \"becam\"      \"media\"      \"franchis\"   \"2000s\"     \n",
            " [56] \"releas\"     \"curs\"       \"black\"      \"pearl\"      \"follow\"    \n",
            " [61] \"four\"       \"sequel\"     \"produc\"     \"jerri\"      \"bruckheim\" \n",
            " [66] \"origin\"     \"written\"    \"screenwrit\" \"ted\"        \"elliott\"   \n",
            " [71] \"terri\"      \"rossio\"     \"film\"       \"gross\"      \"billion\"   \n",
            " [76] \"worldwid\"   \"put\"        \"film\"       \"franchis\"   \"16th\"      \n",
            " [81] \"list\"       \"time\"       \"highest\"    \"gross\"      \"franchis\"  \n",
            " [86] \"film\"       \"seri\"       \"ride\"       \"can\"        \"found\"     \n",
            " [91] \"five\"       \"disney\"     \"theme\"      \"park\"       \"resort\"    \n",
            " [96] \"pirat\"      \"caribbean\"  \"dark\"       \"ride\"       \"disneyland\"\n",
            "[101] \"walt\"       \"disney\"     \"world\"      \"magic\"      \"kingdom\"   \n",
            "[106] \"tokyo\"      \"disneyland\" \"disneyland\" \"park\"       \"disneyland\"\n",
            "[111] \"pari\"       \"open\"       \"march\"      \"disneyland\" \"version\"   \n",
            "[116] \"pirat\"      \"caribbean\"  \"last\"       \"ride\"       \"walt\"      \n",
            "[121] \"disney\"     \"particip\"   \"design\"     \"debut\"      \"three\"     \n",
            "[126] \"month\"      \"death\"      \"ride\"       \"gave\"       \"rise\"      \n",
            "[131] \"song\"       \"yo\"         \"ho\"         \"pirat\"      \"life\"      \n",
            "[136] \"written\"    \"georg\"      \"brun\"       \"xavier\"     \"atencio\"   \n",
            "[141] \"perform\"    \"ride\"       \"record\"     \"mellomen\"   \"pirat\"     \n",
            "[146] \"lair\"       \"tom\"        \"sawyer\"     \"island\"     \"rebrand\"   \n",
            "[151] \"tom\"        \"sawyer\"     \"island\"     \"artifici\"   \"island\"    \n",
            "[156] \"surround\"   \"river\"      \"america\"    \"disneyland\" \"magic\"     \n",
            "[161] \"kingdom\"    \"tokyo\"      \"disneyland\" \"contain\"    \"structur\"  \n",
            "[166] \"cave\"       \"refer\"      \"mark\"       \"twain\"      \"charact\"   \n",
            "[171] \"novel\"      \"adventur\"   \"tom\"        \"sawyer\"     \"provid\"    \n",
            "[176] \"interact\"   \"climb\"      \"scenic\"     \"opportun\"   \"disneyland\"\n",
            "[181] \"disney\"     \"ad\"         \"refer\"      \"pirat\"      \"caribbean\" \n",
            "[186] \"film\"       \"seri\"       \"pirat\"      \"caribbean\"  \"battl\"     \n",
            "[191] \"sunken\"     \"treasur\"    \"magnet\"     \"power\"      \"dark\"      \n",
            "[196] \"ride\"       \"shanghai\"   \"disneyland\" \"use\"        \"storylin\"  \n",
            "[201] \"base\"       \"pirat\"      \"caribbean\"  \"film\"       \"seri\"      \n",
            "[206] \"blend\"      \"digit\"      \"larg\"       \"screen\"     \"project\"   \n",
            "[211] \"technolog\"  \"tradit\"     \"set\"        \"piec\"       \"audio\"     \n",
            "[216] \"animatron\"  \"walt\"       \"disney\"     \"imagin\"     \"design\"    \n",
            "[221] \"ride\"       \"industri\"   \"light\"      \"magic\"      \"creat\"     \n",
            "[226] \"comput\"     \"generat\"    \"visual\"     \"effect\"     \"two\"       \n",
            "[231] \"seri\"       \"young\"      \"reader\"     \"book\"       \"releas\"    \n",
            "[236] \"prequel\"    \"first\"      \"film\"      \n"
          ]
        }
      ]
    },
    {
      "cell_type": "code",
      "source": [
        "# Lemmatization\n",
        "lemmatized_text <- tolower(text)\n",
        "lemmatized_text <- wordStem(lemmatized_text, language = \"en\")\n",
        "\n",
        "cat(\"Lemmatized Text:\", lemmatized_text, \"\\n\")"
      ],
      "metadata": {
        "colab": {
          "base_uri": "https://localhost:8080/"
        },
        "id": "qNXEh1UiNtmy",
        "outputId": "0954cd46-1055-4682-8032-d5292e5651e1"
      },
      "execution_count": 11,
      "outputs": [
        {
          "output_type": "stream",
          "name": "stdout",
          "text": [
            "Lemmatized Text: \n",
            " pirates of the caribbean is a disney media franchise encompassing numerous theme park rides, a series of films, and spin-off novels, as well as a number of related video games and other media publications. the franchise originated with walt disney's theme park ride of the same name, which opened at disneyland in 1967 and was one of the last disneyland attractions overseen by walt disney. disney based the ride on pirate legends, folklore and novels, such as those by italian writer emilio salgari.\n",
            " pirates of the caribbean became a media franchise in the 2000s with the release of the curse of the black pearl in 2003; it was followed by four sequels. produced by jerry bruckheimer and originally written by screenwriters ted elliott and terry rossio, the films have grossed over $4.5 billion worldwide by 2019,[1] putting the film franchise 16th in the list of all-time highest-grossing franchises and film series. the rides can be found at five disney theme park resorts.\n",
            " pirates of the caribbean is a dark ride at disneyland, walt disney world's magic kingdom, tokyo disneyland, and disneyland park at disneyland paris. opening on march 18, 1967, the disneyland version of pirates of the caribbean was the last ride that walt disney himself participated in designing, debuting three months after his death.[2] the ride gave rise to the song \"yo ho (a pirate's life for me)\" written by george bruns and xavier atencio, and performed on the ride's recording by the mellomen.[3] pirate's lair on tom sawyer island is a rebranding of tom sawyer island, an artificial island surrounded by the rivers of america at disneyland, magic kingdom and tokyo disneyland. it contains structures and caves with references to mark twain characters from the novel the adventures of tom sawyer, and provides interactive, climbing, and scenic opportunities. at disneyland in 2007, disney added references to the pirates of the caribbean film series.\n",
            " pirates of the caribbean: battle for the sunken treasure is a magnetic powered dark ride at shanghai disneyland. it uses a storyline based on the pirates of the caribbean film series. it blends digital large-screen projection technology with traditional set pieces and audio animatronics. walt disney imagineering designed the ride and industrial light & magic created the computer-generated visual effects.[4] two series of young reader books have been released as prequels to the first film:\n",
            " in addition there is a novel taking place between the two series:\n",
            " novelizations\n",
            " further fictional books\n",
            " reference books\n",
            " german novelizations\n",
            " the pirates of the caribbean comic series by joe books ltd:\n",
            " comic book adaptions:\n",
            " comics have also been published in the disney adventures and pirati dei caraibi magazines.\n",
            " several additional works have been derived from the franchise:\n",
            "  category\n",
            " \n"
          ]
        }
      ]
    },
    {
      "cell_type": "code",
      "source": [
        "scrape_text <- function(url) {\n",
        "  web_page <- read_html(url)\n",
        "  paragraphs <- html_nodes(web_page, \"p\")\n",
        "  text <- sapply(paragraphs, function(para) {\n",
        "    html_text(para)\n",
        "  })\n",
        "  text <- paste(text, collapse = \" \")\n",
        "  return(text)\n",
        "}\n",
        "\n",
        "url <- 'https://en.wikipedia.org/wiki/Pirates_of_the_Caribbean'\n",
        "text <- scrape_text(url)\n",
        "cat(\"Scraped Text from the Website:\\n\", text)"
      ],
      "metadata": {
        "colab": {
          "base_uri": "https://localhost:8080/"
        },
        "id": "D3gMHojrNthg",
        "outputId": "d250baaf-fdc8-4b50-b598-9d62f0fd92f5"
      },
      "execution_count": 8,
      "outputs": [
        {
          "output_type": "stream",
          "name": "stdout",
          "text": [
            "Scraped Text from the Website:\n",
            " \n",
            " Pirates of the Caribbean is a Disney media franchise encompassing numerous theme park rides, a series of films, and spin-off novels, as well as a number of related video games and other media publications. The franchise originated with Walt Disney's theme park ride of the same name, which opened at Disneyland in 1967 and was one of the last Disneyland attractions overseen by Walt Disney. Disney based the ride on pirate legends, folklore and novels, such as those by Italian writer Emilio Salgari.\n",
            " Pirates of the Caribbean became a media franchise in the 2000s with the release of The Curse of the Black Pearl in 2003; it was followed by four sequels. Produced by Jerry Bruckheimer and originally written by screenwriters Ted Elliott and Terry Rossio, the films have grossed over $4.5 billion worldwide by 2019,[1] putting the film franchise 16th in the list of all-time highest-grossing franchises and film series. The rides can be found at five Disney theme park resorts.\n",
            " Pirates of the Caribbean is a dark ride at Disneyland, Walt Disney World's Magic Kingdom, Tokyo Disneyland, and Disneyland Park at Disneyland Paris. Opening on March 18, 1967, the Disneyland version of Pirates of the Caribbean was the last ride that Walt Disney himself participated in designing, debuting three months after his death.[2] The ride gave rise to the song \"Yo Ho (A Pirate's Life for Me)\" written by George Bruns and Xavier Atencio, and performed on the ride's recording by The Mellomen.[3] Pirate's Lair on Tom Sawyer Island is a rebranding of Tom Sawyer Island, an artificial island surrounded by the Rivers of America at Disneyland, Magic Kingdom and Tokyo Disneyland. It contains structures and caves with references to Mark Twain characters from the novel The Adventures of Tom Sawyer, and provides interactive, climbing, and scenic opportunities. At Disneyland in 2007, Disney added references to the Pirates of the Caribbean film series.\n",
            " Pirates of the Caribbean: Battle for the Sunken Treasure is a magnetic powered dark ride at Shanghai Disneyland. It uses a storyline based on the Pirates of the Caribbean film series. It blends digital large-screen projection technology with traditional set pieces and audio animatronics. Walt Disney Imagineering designed the ride and Industrial Light & Magic created the computer-generated visual effects.[4] Two series of young reader books have been released as prequels to the first film:\n",
            " In addition there is a novel taking place between the two series:\n",
            " Novelizations\n",
            " Further fictional books\n",
            " Reference books\n",
            " German novelizations\n",
            " The Pirates of the Caribbean comic series by Joe Books Ltd:\n",
            " Comic book adaptions:\n",
            " Comics have also been published in the Disney Adventures and Pirati dei Caraibi magazines.\n",
            " Several additional works have been derived from the franchise:\n",
            "  Category\n"
          ]
        }
      ]
    },
    {
      "cell_type": "markdown",
      "source": [
        "**Conclusion:**\n",
        "Identified the Text Analytics Libraries in Python and R                    \n",
        "Performed simple experiments with these libraries in Python and R"
      ],
      "metadata": {
        "id": "1-dwv3BBQlFY"
      }
    }
  ]
}